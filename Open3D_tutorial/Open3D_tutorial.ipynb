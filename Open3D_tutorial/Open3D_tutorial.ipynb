{
 "cells": [
  {
   "cell_type": "code",
   "execution_count": 3,
   "id": "01e25918",
   "metadata": {},
   "outputs": [
    {
     "name": "stdout",
     "output_type": "stream",
     "text": [
      "Jupyter environment detected. Enabling Open3D WebVisualizer.\n",
      "[Open3D INFO] WebRTC GUI backend enabled.\n",
      "[Open3D INFO] WebRTCWindowSystem: HTTP handshake server disabled.\n"
     ]
    }
   ],
   "source": [
    "import open3d as o3d\n",
    "import numpy as np\n",
    "import plotly.graph_objects as go"
   ]
  },
  {
   "cell_type": "code",
   "execution_count": 4,
   "id": "e4cf3339",
   "metadata": {},
   "outputs": [],
   "source": [
    "import wget\n"
   ]
  },
  {
   "cell_type": "code",
   "execution_count": 6,
   "id": "20120235",
   "metadata": {},
   "outputs": [
    {
     "name": "stdout",
     "output_type": "stream",
     "text": [
      "100% [..............................................................................] 10878 / 10878"
     ]
    }
   ],
   "source": [
    "url = 'https://raw.githubusercontent.com/PointCloudLibrary/pcl/master/test/bunny.pcd'\n",
    "filename = wget.download(url)"
   ]
  },
  {
   "cell_type": "code",
   "execution_count": 16,
   "id": "ca8e05b4",
   "metadata": {},
   "outputs": [
    {
     "name": "stdout",
     "output_type": "stream",
     "text": [
      "PointCloud with 397 points.\n"
     ]
    }
   ],
   "source": [
    "pcd = o3d.io.read_point_cloud(\"bunny.pcd\")\n",
    "print(pcd)"
   ]
  },
  {
   "cell_type": "code",
   "execution_count": 9,
   "id": "d5cdd1c6",
   "metadata": {},
   "outputs": [
    {
     "data": {
      "text/plain": [
       "True"
      ]
     },
     "execution_count": 9,
     "metadata": {},
     "output_type": "execute_result"
    }
   ],
   "source": [
    "#to write a point cloud\n",
    "o3d.io.write_point_cloud(\"copy_of_bunny.pcd\", pcd)"
   ]
  },
  {
   "cell_type": "code",
   "execution_count": 18,
   "id": "ff4f91a3",
   "metadata": {},
   "outputs": [],
   "source": [
    "#Exit the program if the read file is empty\n",
    "\n",
    "if pcd.is_empty(): exit()"
   ]
  },
  {
   "cell_type": "code",
   "execution_count": 19,
   "id": "66a4af9d",
   "metadata": {},
   "outputs": [],
   "source": [
    "#Compute normals of the point cloud\n",
    "\n",
    "pcd.estimate_normals(search_param=o3d.geometry.KDTreeSearchParamHybrid(radius=0.1, max_nn=30))"
   ]
  },
  {
   "cell_type": "code",
   "execution_count": 11,
   "id": "6860158c",
   "metadata": {},
   "outputs": [
    {
     "name": "stdout",
     "output_type": "stream",
     "text": [
      "[Open3D WARNING] Read XYZ failed: unable to open file: sample.xyz\n"
     ]
    }
   ],
   "source": [
    "pcd = o3d.io.read_point_cloud(\"sample.xyz\", format ='xyz')\n"
   ]
  },
  {
   "cell_type": "markdown",
   "id": "bc51a791",
   "metadata": {},
   "source": [
    "## Mesh"
   ]
  },
  {
   "cell_type": "code",
   "execution_count": 24,
   "id": "71b98878",
   "metadata": {},
   "outputs": [
    {
     "name": "stdout",
     "output_type": "stream",
     "text": [
      "100% [............................................................................] 205917 / 205917"
     ]
    }
   ],
   "source": [
    "url = \"https://graphics.stanford.edu/~mdfisher/Data/Meshes/bunny.obj\"\n",
    "filename = wget.download(url)"
   ]
  },
  {
   "cell_type": "code",
   "execution_count": 26,
   "id": "4880a57a",
   "metadata": {},
   "outputs": [
    {
     "name": "stdout",
     "output_type": "stream",
     "text": [
      "TriangleMesh with 2503 points and 4968 triangles.\n"
     ]
    }
   ],
   "source": [
    "rabbit_mesh = o3d.io.read_triangle_mesh(\"bunny.obj\")\n",
    "print(rabbit_mesh)"
   ]
  },
  {
   "cell_type": "code",
   "execution_count": 28,
   "id": "471a224b",
   "metadata": {},
   "outputs": [],
   "source": [
    "#Exit the program if the mesh file is empty\n",
    "\n",
    "if rabbit_mesh.is_empty(): exit()"
   ]
  },
  {
   "cell_type": "code",
   "execution_count": 29,
   "id": "31d8ecd6",
   "metadata": {},
   "outputs": [],
   "source": [
    "#Compute vertex normals and triangle normals of the mesh if they do not exist.\n",
    "if not rabbit_mesh.has_vertex_normals():    \n",
    "    rabbit_mesh.compute_vertex_normals()\n",
    "if not rabbit_mesh.has_triangle_normals(): \n",
    "    rabbit_mesh.compute_triangle_normals() "
   ]
  },
  {
   "cell_type": "markdown",
   "id": "b458b045",
   "metadata": {},
   "source": [
    "### Define a function to plot the point cloud and mesh"
   ]
  },
  {
   "cell_type": "code",
   "execution_count": 58,
   "id": "b590f385",
   "metadata": {},
   "outputs": [
    {
     "ename": "IndentationError",
     "evalue": "unindent does not match any outer indentation level (<tokenize>, line 21)",
     "output_type": "error",
     "traceback": [
      "\u001b[1;36m  File \u001b[1;32m\"<tokenize>\"\u001b[1;36m, line \u001b[1;32m21\u001b[0m\n\u001b[1;33m    else:\u001b[0m\n\u001b[1;37m    ^\u001b[0m\n\u001b[1;31mIndentationError\u001b[0m\u001b[1;31m:\u001b[0m unindent does not match any outer indentation level\n"
     ]
    }
   ],
   "source": [
    "\n",
    " def draw(geometries):\n",
    " #Initialize an array for Plotly graph objects\n",
    "     graph_obj = []\n",
    "     for gm in geometries:\n",
    " #First, determine whether the geometry is point cloud or mesh\n",
    "         geometry_type = gm.get_geometry_type()\n",
    "        #If it is point cloud\n",
    "         if geometry_type == o3d.geometry.Geometry.Type.PointCloud:\n",
    "           #array to store point coordinates of the point cloud\n",
    "             pts = np.asarray(gm.points)  \n",
    "           #array to store colors of the point clous\n",
    "             clr = None  #for colors\n",
    "\"\"\"\n",
    "If the point cloud has point colors, store RGB colors of the point cloud in clr array\n",
    "\"\"\"\n",
    "if gm.has_colors():\n",
    "                 clr = np.asarray(gm.colors) \n",
    " #If the point cloud has point normals, update clr array accordingly\n",
    "elif gm.has_normals():\n",
    "               clr = (0.5, 0.5, 0.5) + np.asarray(gm.normals) * 0.5\n",
    "             else:\n",
    "   #Paint each point with the same color first\n",
    "               gm.paint_uniform_color((1.0, 0.0, 0.0))\n",
    " #Update the clr array with point cloud’s colors\n",
    "               clr = np.asarray(gm.colors)\n",
    " #Scatter plot of the point cloud using Plotly\n",
    "             sc = go.Scatter3d(x=pts[:,0], y=pts[:,1], z=pts[:,2],   mode='markers', marker=dict(size=1, color=clr))\n",
    "  #Add the scatter plot to the graph objects array\n",
    "             graph_obj.append(sc)\n",
    "        #If the geometry if the mesh\n",
    "if geometry_type == o3d.geometry.Geometry.Type.TriangleMesh:\n",
    "     #Store triangles’ coordinates of the mesh\n",
    "             tri = np.asarray(gm.triangles)\n",
    "    #Store vertices’ coordinates of the mesh\n",
    "             vert = np.asarray(gm.vertices)\n",
    "  #Initialize the tuple to store colors of the mesh\n",
    "             clr = None\n",
    " #if the mesh has triangle normals\n",
    "             if gm.has_triangle_normals():\n",
    "               clr = (0.5, 0.5, 0.5) + np.asarray(gm.triangle_normals) * 0.5\n",
    "               clr = tuple(map(tuple, clr))\n",
    "                else:\n",
    "                clr = (1.0, 0.0, 0.0)\n",
    "        #Define the 3D mesh     \n",
    "             mesh = go.Mesh3d(x=vert[:,0], y=vert[:,1], z=vert[:,2], \n",
    "             i=tri[:,0], j=tri[:,1], k=tri[:,2],facecolor=clr, opacity=0.50)\n",
    "   #Add the mesh to graph objects array\n",
    "             graph_obj.append(mesh)\n",
    " #Plot the figure using Plotly  \n",
    "fig = go.Figure(\n",
    "  #use data from graph objects array i.e. point cloud and mesh\n",
    "         data=graph_obj, \n",
    "   #Layout of the plot\n",
    "         layout=dict(\n",
    "             scene=dict(\n",
    "            #Disable axes’ display\n",
    "                 xaxis=dict(visible=False),\n",
    "                 yaxis=dict(visible=False),\n",
    "                 zaxis=dict(visible=False)\n",
    "             )\n",
    "         )\n",
    "     )\n",
    "     fig.show()     #Display the figure "
   ]
  },
  {
   "cell_type": "markdown",
   "id": "518dcfe4",
   "metadata": {},
   "source": [
    "### bunny dataset"
   ]
  },
  {
   "cell_type": "code",
   "execution_count": 1,
   "id": "cd689a60",
   "metadata": {},
   "outputs": [
    {
     "name": "stdout",
     "output_type": "stream",
     "text": [
      "Jupyter environment detected. Enabling Open3D WebVisualizer.\n",
      "[Open3D INFO] WebRTC GUI backend enabled.\n",
      "[Open3D INFO] WebRTCWindowSystem: HTTP handshake server disabled.\n"
     ]
    }
   ],
   "source": [
    "import open3d as o3d\n",
    "import numpy as np\n",
    "import PIL.Image\n",
    "import IPython.display\n",
    "import os\n",
    "import urllib\n",
    "import tarfile\n",
    "import gzip\n",
    "import zipfile\n",
    "import shutil\n",
    "\n"
   ]
  },
  {
   "cell_type": "code",
   "execution_count": null,
   "id": "78216f5e",
   "metadata": {},
   "outputs": [],
   "source": [
    "#Download the point cloud using below command\n",
    "import wget\n",
    "url = 'http://graphics.stanford.edu/pub/3Dscanrep/bunny.tar.gz'\n",
    "filename = wget.download(url)"
   ]
  },
  {
   "cell_type": "code",
   "execution_count": 67,
   "id": "7d7b91f7",
   "metadata": {},
   "outputs": [],
   "source": [
    "bunny_path = \"C:/Users/Rekha/bunny.tar.gz\"\n",
    "with tarfile.open(bunny_path) as tar:\n",
    "             tar.extractall(path=os.path.dirname(bunny_path))"
   ]
  },
  {
   "cell_type": "code",
   "execution_count": 69,
   "id": "55ce7a13",
   "metadata": {},
   "outputs": [
    {
     "data": {
      "text/plain": [
       "TriangleMesh with 35947 points and 69451 triangles."
      ]
     },
     "execution_count": 69,
     "metadata": {},
     "output_type": "execute_result"
    }
   ],
   "source": [
    "bunny_path = \"C:/Users/Rekha/bunny/reconstruction/bun_zipper.ply\"\n",
    "mesh = o3d.io.read_triangle_mesh(bunny_path)\n",
    "mesh.compute_vertex_normals()"
   ]
  },
  {
   "cell_type": "code",
   "execution_count": 70,
   "id": "b189ed0f",
   "metadata": {},
   "outputs": [],
   "source": [
    "mesh.compute_vertex_normals()\n",
    "o3d.visualization.draw_geometries([mesh])\n",
    "\n",
    "pcd = mesh.sample_points_uniformly(number_of_points=500)\n",
    "o3d.visualization.draw_geometries([pcd])"
   ]
  },
  {
   "cell_type": "markdown",
   "id": "0b872cfe",
   "metadata": {},
   "source": [
    "### Download the Happy Buddha dataset"
   ]
  },
  {
   "cell_type": "code",
   "execution_count": 71,
   "id": "2b447c20",
   "metadata": {},
   "outputs": [
    {
     "name": "stdout",
     "output_type": "stream",
     "text": [
      "100% [........................................................................] 14456495 / 14456495"
     ]
    }
   ],
   "source": [
    "#Download the Happy Buddha dataset\n",
    "import wget\n",
    "url = 'http://graphics.stanford.edu/pub/3Dscanrep/happy/happy_recon.tar.gz'\n",
    "filename = wget.download(url)"
   ]
  },
  {
   "cell_type": "code",
   "execution_count": 73,
   "id": "1f15ac3b",
   "metadata": {},
   "outputs": [],
   "source": [
    "budha_path = \"C:/Users/Rekha/happy_recon.tar.gz\"\n",
    "with tarfile.open(budha_path ) as tar:\n",
    "            tar.extractall(path=os.path.dirname(budha_path))\n",
    "        \n"
   ]
  },
  {
   "cell_type": "code",
   "execution_count": 74,
   "id": "1d5f0132",
   "metadata": {},
   "outputs": [
    {
     "data": {
      "text/plain": [
       "TriangleMesh with 543652 points and 1087716 triangles."
      ]
     },
     "execution_count": 74,
     "metadata": {},
     "output_type": "execute_result"
    }
   ],
   "source": [
    "budha_path = \"C:/Users/Rekha/happy_recon/happy_vrip.ply\"\n",
    "mesh_budha = o3d.io.read_triangle_mesh(budha_path)\n",
    "mesh_budha.compute_vertex_normals()"
   ]
  },
  {
   "cell_type": "code",
   "execution_count": 75,
   "id": "f603a386",
   "metadata": {},
   "outputs": [],
   "source": [
    "mesh_budha.compute_vertex_normals()\n",
    "o3d.visualization.draw_geometries([mesh_budha])\n",
    "\n",
    "pcd_budha = mesh_budha.sample_points_uniformly(number_of_points=500)\n",
    "o3d.visualization.draw_geometries([pcd_budha])"
   ]
  },
  {
   "cell_type": "markdown",
   "id": "edcc95b1",
   "metadata": {},
   "source": [
    "### Dragon Dataset"
   ]
  },
  {
   "cell_type": "code",
   "execution_count": 76,
   "id": "4f6c0a45",
   "metadata": {},
   "outputs": [
    {
     "name": "stdout",
     "output_type": "stream",
     "text": [
      "100% [........................................................................] 11197764 / 11197764"
     ]
    }
   ],
   "source": [
    "import wget\n",
    "url = 'http://graphics.stanford.edu/pub/3Dscanrep/dragon/dragon_recon.tar.gz'\n",
    "filename = wget.download(url)"
   ]
  },
  {
   "cell_type": "code",
   "execution_count": 3,
   "id": "44eb32e6",
   "metadata": {},
   "outputs": [],
   "source": [
    "dragon_path = \"C:/Users/Rekha/dragon_recon.tar.gz\"\n",
    "with tarfile.open(dragon_path ) as tar:\n",
    "            tar.extractall(path=os.path.dirname(dragon_path))\n",
    "        \n"
   ]
  },
  {
   "cell_type": "code",
   "execution_count": 4,
   "id": "674de50a",
   "metadata": {},
   "outputs": [
    {
     "data": {
      "text/plain": [
       "TriangleMesh with 437645 points and 871414 triangles."
      ]
     },
     "execution_count": 4,
     "metadata": {},
     "output_type": "execute_result"
    }
   ],
   "source": [
    "dragon_path = \"C:/Users/Rekha/dragon_recon/dragon_vrip.ply\"\n",
    "mesh_dragon = o3d.io.read_triangle_mesh(dragon_path)\n",
    "mesh_dragon.compute_vertex_normals()"
   ]
  },
  {
   "cell_type": "code",
   "execution_count": 5,
   "id": "1399c606",
   "metadata": {},
   "outputs": [],
   "source": [
    "mesh_dragon.compute_vertex_normals()\n",
    "o3d.visualization.draw_geometries([mesh_dragon])\n",
    "\n",
    "pcd_dragon = mesh_dragon.sample_points_uniformly(number_of_points=500)\n",
    "o3d.visualization.draw_geometries([pcd_dragon])"
   ]
  },
  {
   "cell_type": "markdown",
   "id": "a6a3f385",
   "metadata": {},
   "source": [
    "## Voxel downsampling\n",
    "\n",
    "1- It is a preprocessing step for point cloud processing tasks.                                                                    \n",
    "2- It takes the point clouds and downsample.                                                                                                     \n",
    "3- Points which are in 1 voxels are averaged and we get 1 point after averaging."
   ]
  },
  {
   "cell_type": "markdown",
   "id": "10893ebd",
   "metadata": {},
   "source": [
    "### Why downsampling\n",
    "It makes the data of a more manageable size   \n",
    "\n",
    "Reduces the dimensionality of the data thus enabling in faster processing of the data (image)                \n",
    "\n",
    "Reducing the storage size of the data\n"
   ]
  },
  {
   "cell_type": "code",
   "execution_count": 6,
   "id": "3e74c909",
   "metadata": {},
   "outputs": [
    {
     "name": "stdout",
     "output_type": "stream",
     "text": [
      "Downsample the point cloud with a voxel of 0.05\n"
     ]
    }
   ],
   "source": [
    "print(\"Downsample the point cloud with a voxel of 0.05\")\n",
    "downpcd = pcd_dragon.voxel_down_sample(voxel_size=0.05)\n",
    "o3d.visualization.draw_geometries([downpcd],width=1920, height=1080, left=50, top=50)"
   ]
  },
  {
   "cell_type": "code",
   "execution_count": 7,
   "id": "5ca4909c",
   "metadata": {},
   "outputs": [],
   "source": [
    "##Example 2"
   ]
  },
  {
   "cell_type": "code",
   "execution_count": 10,
   "id": "e58ccb5a",
   "metadata": {},
   "outputs": [],
   "source": [
    "drill_path = \"C:/Users/Rekha/Downloads/drill.tar.gz\"\n",
    "with tarfile.open(drill_path ) as tar:\n",
    "            tar.extractall(path=os.path.dirname(drill_path))\n",
    "        "
   ]
  },
  {
   "cell_type": "code",
   "execution_count": 11,
   "id": "f8a15cd5",
   "metadata": {},
   "outputs": [
    {
     "data": {
      "text/plain": [
       "TriangleMesh with 437645 points and 871414 triangles."
      ]
     },
     "execution_count": 11,
     "metadata": {},
     "output_type": "execute_result"
    }
   ],
   "source": [
    "drill_path = \"C:/Users/Rekha/Downloads/drill/fragment.ply\"\n",
    "mesh_drill = o3d.io.read_triangle_mesh(dragon_path)\n",
    "mesh_drill.compute_vertex_normals()"
   ]
  },
  {
   "cell_type": "code",
   "execution_count": 13,
   "id": "1839f6d6",
   "metadata": {},
   "outputs": [],
   "source": [
    "pcd_drill = mesh_drill.sample_points_uniformly(number_of_points=500)\n",
    "o3d.visualization.draw_geometries([pcd_drill])"
   ]
  },
  {
   "cell_type": "code",
   "execution_count": 12,
   "id": "a135c393",
   "metadata": {},
   "outputs": [
    {
     "name": "stdout",
     "output_type": "stream",
     "text": [
      "Load a ply point cloud, print it, and render it\n",
      "[Open3D WARNING] Read PLY failed: unable to open file: fragment.ply\n",
      "PointCloud with 0 points.\n",
      "[]\n"
     ]
    }
   ],
   "source": [
    "import numpy as np\n",
    "print(\"Load a ply point cloud, print it, and render it\")\n",
    "\n",
    "#read_point_cloud reads a point cloud from a file. It tries to decode the file based on the extension name.\n",
    "pcd = o3d.io.read_point_cloud(\"fragment.ply\")\n",
    "print(pcd)\n",
    "print(np.asarray(pcd.points))\n",
    "\n",
    "#draw_geometries visualizes the point cloud. \n",
    "o3d.visualization.draw_geometries([pcd],width=1920, height=1080, left=50, top=50)"
   ]
  }
 ],
 "metadata": {
  "kernelspec": {
   "display_name": "open3d",
   "language": "python",
   "name": "open3d"
  },
  "language_info": {
   "codemirror_mode": {
    "name": "ipython",
    "version": 3
   },
   "file_extension": ".py",
   "mimetype": "text/x-python",
   "name": "python",
   "nbconvert_exporter": "python",
   "pygments_lexer": "ipython3",
   "version": "3.9.12"
  }
 },
 "nbformat": 4,
 "nbformat_minor": 5
}
